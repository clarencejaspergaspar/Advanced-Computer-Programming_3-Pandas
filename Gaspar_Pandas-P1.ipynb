{
 "cells": [
  {
   "cell_type": "markdown",
   "id": "85184b78-a68d-49b8-b45a-133cfec1870d",
   "metadata": {},
   "source": [
    "Name: Clarence Jasper S. Gaspar Section: 2ECE-B"
   ]
  },
  {
   "cell_type": "markdown",
   "id": "674a9b16-4c11-456d-a141-8cd90af36a97",
   "metadata": {},
   "source": [
    "EXPERIMENT 3: PYTHON DATA ANALYSIS (PANDAS)"
   ]
  },
  {
   "cell_type": "code",
   "execution_count": null,
   "id": "23c22f03-9429-4b01-b934-fff981f7509f",
   "metadata": {},
   "outputs": [],
   "source": []
  },
  {
   "cell_type": "code",
   "execution_count": null,
   "id": "51b2de5c-794a-406b-9902-9bee7b2ca11f",
   "metadata": {},
   "outputs": [],
   "source": [
    "PROBLEM 1"
   ]
  },
  {
   "cell_type": "code",
   "execution_count": 3,
   "id": "cb72b33e-e1a0-4310-bec3-b74350b88f99",
   "metadata": {},
   "outputs": [
    {
     "name": "stdout",
     "output_type": "stream",
     "text": [
      "First Five Rows:\n",
      "\n",
      "               Model   mpg  cyl   disp   hp  drat     wt   qsec  vs  am  gear  \\\n",
      "0          Mazda RX4  21.0    6  160.0  110  3.90  2.620  16.46   0   1     4   \n",
      "1      Mazda RX4 Wag  21.0    6  160.0  110  3.90  2.875  17.02   0   1     4   \n",
      "2         Datsun 710  22.8    4  108.0   93  3.85  2.320  18.61   1   1     4   \n",
      "3     Hornet 4 Drive  21.4    6  258.0  110  3.08  3.215  19.44   1   0     3   \n",
      "4  Hornet Sportabout  18.7    8  360.0  175  3.15  3.440  17.02   0   0     3   \n",
      "\n",
      "   carb  \n",
      "0     4  \n",
      "1     4  \n",
      "2     1  \n",
      "3     1  \n",
      "4     2   \n",
      "\n",
      "Last Five Rows:\n",
      "\n",
      "             Model   mpg  cyl   disp   hp  drat     wt  qsec  vs  am  gear  \\\n",
      "27    Lotus Europa  30.4    4   95.1  113  3.77  1.513  16.9   1   1     5   \n",
      "28  Ford Pantera L  15.8    8  351.0  264  4.22  3.170  14.5   0   1     5   \n",
      "29    Ferrari Dino  19.7    6  145.0  175  3.62  2.770  15.5   0   1     5   \n",
      "30   Maserati Bora  15.0    8  301.0  335  3.54  3.570  14.6   0   1     5   \n",
      "31      Volvo 142E  21.4    4  121.0  109  4.11  2.780  18.6   1   1     4   \n",
      "\n",
      "    carb  \n",
      "27     2  \n",
      "28     4  \n",
      "29     6  \n",
      "30     8  \n",
      "31     2  \n"
     ]
    }
   ],
   "source": [
    "import pandas as pd  # This allows the pandas library to be imported with a short name 'pd'\n",
    "cars = pd.read_csv(\"cars.csv\") # This line reads the csv file that is in the same directory as this python file to obtain data\n",
    "print(\"First Five Rows:\\n\") # This command displays the text \"First Five Rows:\" as a guide for the reader\n",
    "print(cars.head(), \"\\n\") # This part displays the data from the csv file, specifically the first 5 rows.\n",
    "                        #.head shows the first five(default) rows of the data frame\n",
    "\n",
    "print(\"Last Five Rows:\\n\") # This command displays the text \"Last Five Rows:\" as a guide for the reader\n",
    "print(cars.tail()) # This part shows the data from the csv file, specifically the last 5 rows\n",
    "                    #.head shows the first five(default) rows of the data frame\n"
   ]
  },
  {
   "cell_type": "code",
   "execution_count": null,
   "id": "d4b2a0d3-7c82-40b4-b430-8ce870a3b4b8",
   "metadata": {},
   "outputs": [],
   "source": []
  },
  {
   "cell_type": "code",
   "execution_count": null,
   "id": "f59f4e28-118a-4c8d-b54a-455bbb1debf0",
   "metadata": {},
   "outputs": [],
   "source": []
  },
  {
   "cell_type": "code",
   "execution_count": null,
   "id": "9a9bcbf5-1425-4fdd-a7d5-e12087d325d8",
   "metadata": {},
   "outputs": [],
   "source": []
  },
  {
   "cell_type": "code",
   "execution_count": null,
   "id": "2869839a-ed6e-4a63-b1d4-0ee418d028c4",
   "metadata": {},
   "outputs": [],
   "source": []
  }
 ],
 "metadata": {
  "kernelspec": {
   "display_name": "Python [conda env:base] *",
   "language": "python",
   "name": "conda-base-py"
  },
  "language_info": {
   "codemirror_mode": {
    "name": "ipython",
    "version": 3
   },
   "file_extension": ".py",
   "mimetype": "text/x-python",
   "name": "python",
   "nbconvert_exporter": "python",
   "pygments_lexer": "ipython3",
   "version": "3.13.5"
  }
 },
 "nbformat": 4,
 "nbformat_minor": 5
}
