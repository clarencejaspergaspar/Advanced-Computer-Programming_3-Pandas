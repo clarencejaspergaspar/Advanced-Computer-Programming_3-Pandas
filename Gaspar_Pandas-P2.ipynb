{
 "cells": [
  {
   "cell_type": "code",
   "execution_count": null,
   "id": "55924bdf-bb8c-4a05-b2dc-1e5ce46c18bd",
   "metadata": {},
   "outputs": [],
   "source": [
    "Name: Clarence Jasper S. Gaspar"
   ]
  },
  {
   "cell_type": "markdown",
   "id": "64ba268d-7c72-4ef8-8085-bf61f0ba8978",
   "metadata": {},
   "source": [
    "EXPERIMENT 3: PYTHON DATA ANALYSIS (PANDAS)"
   ]
  },
  {
   "cell_type": "code",
   "execution_count": null,
   "id": "74d5e120-84c2-43de-b8cb-f0e2b30fe426",
   "metadata": {},
   "outputs": [],
   "source": []
  },
  {
   "cell_type": "code",
   "execution_count": null,
   "id": "0b1be194-97d7-48b7-96dd-4d61e6d06c8e",
   "metadata": {},
   "outputs": [],
   "source": [
    "PROBLEM 2"
   ]
  },
  {
   "cell_type": "code",
   "execution_count": 2,
   "id": "0b99be82-0118-43df-b964-484c93e3063f",
   "metadata": {},
   "outputs": [
    {
     "name": "stdout",
     "output_type": "stream",
     "text": [
      "A. The first five rows with odd-numbered columns of cars:\n",
      "\n",
      "               Model  cyl   hp     wt  vs  gear\n",
      "0          Mazda RX4    6  110  2.620   0     4\n",
      "1      Mazda RX4 Wag    6  110  2.875   0     4\n",
      "2         Datsun 710    4   93  2.320   1     4\n",
      "3     Hornet 4 Drive    6  110  3.215   1     3\n",
      "4  Hornet Sportabout    8  175  3.440   0     3 \n",
      "\n",
      "\n",
      "B. The row that contains the ‘Model’ of ‘Mazda RX4’:\n",
      "\n",
      "       Model   mpg  cyl   disp   hp  drat    wt   qsec  vs  am  gear  carb\n",
      "0  Mazda RX4  21.0    6  160.0  110   3.9  2.62  16.46   0   1     4     4 \n",
      "\n",
      "\n",
      "C. The number of cylinders of ‘Camaro Z28': 8 \n",
      "\n",
      "\n",
      "D. Cylinders and gear type of the car models ‘Mazda RX4 Wag’, ‘Ford Pantera L’, and ‘Honda Civic’\n",
      "\n",
      "\n",
      "             Model  cyl  gear\n",
      "1    Mazda RX4 Wag    6     4\n",
      "18     Honda Civic    4     4\n",
      "28  Ford Pantera L    8     5\n"
     ]
    }
   ],
   "source": [
    "import pandas as pd #This allows the pandas library to be imported\n",
    "cars = pd.read_csv(\"cars.csv\") #This line reads the csv file that is in the same directory as this python file to obtain data.\n",
    "\n",
    "print(\"A. The first five rows with odd-numbered columns of cars:\\n\") #This displays the label to describe what will be shown.\n",
    "print(cars.iloc[:5, ::2], \"\\n\\n\") #This line displays the first five rows while keeping only odd-numbered columns using slicing (::2).\n",
    "\n",
    "print(\"B. The row that contains the ‘Model’ of ‘Mazda RX4’:\\n\") #This displays the label to describe what will be shown.\n",
    "print(cars[cars[\"Model\"] == \"Mazda RX4\"], \"\\n\\n\") #This line filters the DataFrame so that only the row with the car model “Mazda RX4” is displayed.\n",
    "\n",
    "print(\"C. The number of cylinders of ‘Camaro Z28':\", cars.loc[cars[\"Model\"] == \"Camaro Z28\", \"cyl\"].values[0], \"\\n\\n\") \n",
    "#This line finds the row with the model “Camaro Z28” and directly extracts the value in the “cyl” column\n",
    "\n",
    "print(\"D. Cylinders and gear type of the car models ‘Mazda RX4 Wag’, ‘Ford Pantera L’, and ‘Honda Civic’\\n\\n\") \n",
    "#This displays the label to describe what will be shown.\n",
    "print(cars.loc[cars[\"Model\"].isin([\"Mazda RX4 Wag\", \"Ford Pantera L\", \"Honda Civic\"]), [\"Model\", \"cyl\", \"gear\"]]) \n",
    "#This line selects the three specific models and only displays their Model, cyl, and gear columns.\n"
   ]
  },
  {
   "cell_type": "code",
   "execution_count": null,
   "id": "2f932501-e75b-4070-9c4f-c4aac85dfb58",
   "metadata": {},
   "outputs": [],
   "source": []
  }
 ],
 "metadata": {
  "kernelspec": {
   "display_name": "Python [conda env:base] *",
   "language": "python",
   "name": "conda-base-py"
  },
  "language_info": {
   "codemirror_mode": {
    "name": "ipython",
    "version": 3
   },
   "file_extension": ".py",
   "mimetype": "text/x-python",
   "name": "python",
   "nbconvert_exporter": "python",
   "pygments_lexer": "ipython3",
   "version": "3.13.5"
  }
 },
 "nbformat": 4,
 "nbformat_minor": 5
}
